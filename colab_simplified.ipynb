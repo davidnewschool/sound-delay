{
 "cells": [
  {
   "cell_type": "markdown",
   "metadata": {},
   "source": [
    "# Execution in Google Colab\n",
    "You can run this Notebook in Google Colab. Google account required but no local installation, 100% browser based.\n",
    "\n",
    "http://colab.research.google.com/github/davidnewschool/sound-delay/blob/develop/colab_simplified.ipynb"
   ]
  },
  {
   "cell_type": "markdown",
   "metadata": {},
   "source": [
    "### Initialize"
   ]
  },
  {
   "cell_type": "code",
   "execution_count": null,
   "metadata": {},
   "outputs": [],
   "source": [
    "!git clone -b develop https://github.com/davidnewschool/sound-delay.git\n",
    "%cd sound-delay\n",
    "!pip install -r requirements.txt"
   ]
  },
  {
   "cell_type": "markdown",
   "metadata": {},
   "source": [
    "### Get video URL \n",
    "Use one of the following video downloading services to get an .mp4 link.\n",
    "\n",
    "YouTube:\n",
    "   https://y2mate.com/en65\n",
    "\n",
    "Twitter:\n",
    "   https://twittervideodownloader.com\n",
    "\n",
    "Facebook:\n",
    "   https://fbdown.net\n",
    "\n",
    "Instagram:\n",
    "   https://blastup.com/instagram-downloader\n",
    "\n",
    "Tik Tok:\n",
    "   http://ttvdl.com\n"
   ]
  },
  {
   "cell_type": "markdown",
   "metadata": {},
   "source": [
    "### Download mp4 file from URL \n"
   ]
  },
  {
   "cell_type": "code",
   "execution_count": null,
   "metadata": {},
   "outputs": [],
   "source": [
    "%run download_video.py"	
   ]
  },
  {
   "cell_type": "markdown",
   "metadata": {},
   "source": [
    "### Trim video\n",
   ]
  },
  {
   "cell_type": "code",
   "execution_count": null,
   "metadata": {},
   "outputs": [],
   "source": [
    "%run trim_video.py"
   ]
  },
  {
   "cell_type": "markdown",
   "metadata": {},
   "source": [
    "### Plot sound delay"
   ]
  },
  {
   "cell_type": "code",
   "execution_count": null,
   "metadata": {},
   "outputs": [],
   "source": [
    "%run plot_delay.py"
   ]
  },
  {
   "cell_type": "markdown",
   "metadata": {},
   "source": [
    "### Calculate distance"
   ]
  },
  {
   "cell_type": "code",
   "execution_count": null,
   "metadata": {},
   "outputs": [],
   "source": [
    "%run distance.py"
   ]
  },
  {
   "cell_type": "markdown",
   "metadata": {},
   "source": [
    "### Video Cropping\n",
    "This Python script allows you to crop a video by specifying the percentage of the frame to cut from the top, bottom, left, and right sides. You can use this script to customize the framing of a video, removing unwanted portions to focus on specific content.\n",
    "\n",
    "How to Use\n",
    "Input Video File: The script will prompt you to enter the path of the MP4 video file you want to edit. Provide the full file path, including the file extension (e.g: example/video.mp4).\n",
    "\n",
    "Percentage to Cut: You will be asked to specify the percentage (0-100) of each side (top, bottom, left, and right) that you want to cut. Higher percentages will result in more cropping, while lower percentages will retain more of the original frame.\n",
    "\n",
    "Output Video File: The edited video will be saved with the specified cropping percentages appended to the filename. For example, if you entered 10% for top, 5% for bottom, 15% for left, and 20% for right, the output file would be named something like original-video-edit_10_5_15_20.mp4."
   ]
  },
  {
   "cell_type": "code",
   "execution_count": null,
   "metadata": {},
   "outputs": [],
   "source": [
    "from moviepy.video.io.VideoFileClip import VideoFileClip\n",
    "import moviepy.video.fx.all as vfx"
   ]
  },
  {
   "cell_type": "code",
   "execution_count": null,
   "metadata": {},
   "outputs": [],
   "source": [
    "# Input video file path\n",
    "input_file_path = input(\"Please enter the path of the MP4 file: \")\n",
    "\n",
    "# Load the video clip\n",
    "video_clip = VideoFileClip(input_file_path)\n",
    "\n",
    "# Get the dimensions of the video frame\n",
    "frame_width, frame_height = video_clip.size\n",
    "\n",
    "# Ask the user for the percentage to cut from each side\n",
    "top_percentage = float(input(\"Enter the percentage to cut from the top (0-100): \"))\n",
    "bottom_percentage = float(input(\"Enter the percentage to cut from the bottom (0-100): \"))\n",
    "left_percentage = float(input(\"Enter the percentage to cut from the left (0-100): \"))\n",
    "right_percentage = float(input(\"Enter the percentage to cut from the right (0-100): \"))\n",
    "\n",
    "# Output video file path with percentages\n",
    "output_file_path = input_file_path.replace(\".mp4\", f\"-edit_{top_percentage}_{bottom_percentage}_{left_percentage}_{right_percentage}.mp4\")\n",
    "\n",
    "# Calculate the pixel values to cut\n",
    "top_cut = int(frame_height * (top_percentage / 100))\n",
    "bottom_cut = int(frame_height * (bottom_percentage / 100))\n",
    "left_cut = int(frame_width * (left_percentage / 100))\n",
    "right_cut = int(frame_width * (right_percentage / 100))\n",
    "\n",
    "# Crop the video clip\n",
    "cropped_clip = video_clip.crop(y1=top_cut, y2=frame_height - bottom_cut, x1=left_cut, x2=frame_width - right_cut)\n",
    "\n",
    "# Write the edited video to the output file\n",
    "cropped_clip.write_videofile(output_file_path, codec=\"libx264\")\n",
    "\n",
    "print(\"Video editing complete. Saved as\", output_file_path)\n"
   ]
  }
 ],
 "metadata": {
  "kernelspec": {
   "display_name": "sound-delay",
   "language": "python",
   "name": "python3"
  },
  "language_info": {
   "codemirror_mode": {
    "name": "ipython",
    "version": 3
   },
   "file_extension": ".py",
   "mimetype": "text/x-python",
   "name": "python",
   "nbconvert_exporter": "python",
   "pygments_lexer": "ipython3",
   "version": "3.9.9"
  },
  "orig_nbformat": 4
 },
 "nbformat": 4,
 "nbformat_minor": 2
}
